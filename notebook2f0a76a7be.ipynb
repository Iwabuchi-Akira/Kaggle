{
 "cells": [
  {
   "cell_type": "code",
   "execution_count": 1,
   "id": "2a65087c",
   "metadata": {
    "_cell_guid": "b1076dfc-b9ad-4769-8c92-a6c4dae69d19",
    "_uuid": "8f2839f25d086af736a60e9eeb907d3b93b6e0e5",
    "execution": {
     "iopub.execute_input": "2024-02-25T15:23:44.108078Z",
     "iopub.status.busy": "2024-02-25T15:23:44.107459Z",
     "iopub.status.idle": "2024-02-25T15:23:45.073929Z",
     "shell.execute_reply": "2024-02-25T15:23:45.072598Z"
    },
    "papermill": {
     "duration": 0.974863,
     "end_time": "2024-02-25T15:23:45.076574",
     "exception": false,
     "start_time": "2024-02-25T15:23:44.101711",
     "status": "completed"
    },
    "tags": []
   },
   "outputs": [
    {
     "name": "stdout",
     "output_type": "stream",
     "text": [
      "/kaggle/input/pii-detection-removal-from-educational-data/sample_submission.csv\n",
      "/kaggle/input/pii-detection-removal-from-educational-data/train.json\n",
      "/kaggle/input/pii-detection-removal-from-educational-data/test.json\n"
     ]
    }
   ],
   "source": [
    "# This Python 3 environment comes with many helpful analytics libraries installed\n",
    "# It is defined by the kaggle/python Docker image: https://github.com/kaggle/docker-python\n",
    "# For example, here's several helpful packages to load\n",
    "\n",
    "import numpy as np # linear algebra\n",
    "import pandas as pd # data processing, CSV file I/O (e.g. pd.read_csv)\n",
    "\n",
    "# Input data files are available in the read-only \"../input/\" directory\n",
    "# For example, running this (by clicking run or pressing Shift+Enter) will list all files under the input directory\n",
    "\n",
    "import os\n",
    "for dirname, _, filenames in os.walk('/kaggle/input'):\n",
    "    for filename in filenames:\n",
    "        print(os.path.join(dirname, filename))\n",
    "\n",
    "# You can write up to 20GB to the current directory (/kaggle/working/) that gets preserved as output when you create a version using \"Save & Run All\" \n",
    "# You can also write temporary files to /kaggle/temp/, but they won't be saved outside of the current session"
   ]
  },
  {
   "cell_type": "markdown",
   "id": "557f27a8",
   "metadata": {
    "papermill": {
     "duration": 0.002897,
     "end_time": "2024-02-25T15:23:45.083011",
     "exception": false,
     "start_time": "2024-02-25T15:23:45.080114",
     "status": "completed"
    },
    "tags": []
   },
   "source": [
    "# 1. Loading data"
   ]
  },
  {
   "cell_type": "code",
   "execution_count": 2,
   "id": "b45b095b",
   "metadata": {
    "execution": {
     "iopub.execute_input": "2024-02-25T15:23:45.091052Z",
     "iopub.status.busy": "2024-02-25T15:23:45.090515Z",
     "iopub.status.idle": "2024-02-25T15:23:45.095727Z",
     "shell.execute_reply": "2024-02-25T15:23:45.094576Z"
    },
    "papermill": {
     "duration": 0.011937,
     "end_time": "2024-02-25T15:23:45.098058",
     "exception": false,
     "start_time": "2024-02-25T15:23:45.086121",
     "status": "completed"
    },
    "tags": []
   },
   "outputs": [],
   "source": [
    "TRAIN = '/kaggle/input/pii-detection-removal-from-educational-data/train.json'\n",
    "TEST = '/kaggle/input/pii-detection-removal-from-educational-data/test.json'"
   ]
  },
  {
   "cell_type": "code",
   "execution_count": 3,
   "id": "c5b48987",
   "metadata": {
    "execution": {
     "iopub.execute_input": "2024-02-25T15:23:45.105988Z",
     "iopub.status.busy": "2024-02-25T15:23:45.105623Z",
     "iopub.status.idle": "2024-02-25T15:23:48.114074Z",
     "shell.execute_reply": "2024-02-25T15:23:48.113097Z"
    },
    "papermill": {
     "duration": 3.015439,
     "end_time": "2024-02-25T15:23:48.116720",
     "exception": false,
     "start_time": "2024-02-25T15:23:45.101281",
     "status": "completed"
    },
    "tags": []
   },
   "outputs": [],
   "source": [
    "train_df = pd.read_json(TRAIN)\n",
    "train_data = pd.DataFrame(train_df) "
   ]
  },
  {
   "cell_type": "code",
   "execution_count": 4,
   "id": "ad95e8d0",
   "metadata": {
    "execution": {
     "iopub.execute_input": "2024-02-25T15:23:48.125354Z",
     "iopub.status.busy": "2024-02-25T15:23:48.124670Z",
     "iopub.status.idle": "2024-02-25T15:23:48.149596Z",
     "shell.execute_reply": "2024-02-25T15:23:48.148278Z"
    },
    "papermill": {
     "duration": 0.032304,
     "end_time": "2024-02-25T15:23:48.152268",
     "exception": false,
     "start_time": "2024-02-25T15:23:48.119964",
     "status": "completed"
    },
    "tags": []
   },
   "outputs": [
    {
     "data": {
      "text/html": [
       "<div>\n",
       "<style scoped>\n",
       "    .dataframe tbody tr th:only-of-type {\n",
       "        vertical-align: middle;\n",
       "    }\n",
       "\n",
       "    .dataframe tbody tr th {\n",
       "        vertical-align: top;\n",
       "    }\n",
       "\n",
       "    .dataframe thead th {\n",
       "        text-align: right;\n",
       "    }\n",
       "</style>\n",
       "<table border=\"1\" class=\"dataframe\">\n",
       "  <thead>\n",
       "    <tr style=\"text-align: right;\">\n",
       "      <th></th>\n",
       "      <th>document</th>\n",
       "    </tr>\n",
       "  </thead>\n",
       "  <tbody>\n",
       "    <tr>\n",
       "      <th>count</th>\n",
       "      <td>6807.000000</td>\n",
       "    </tr>\n",
       "    <tr>\n",
       "      <th>mean</th>\n",
       "      <td>14739.782283</td>\n",
       "    </tr>\n",
       "    <tr>\n",
       "      <th>std</th>\n",
       "      <td>4920.715769</td>\n",
       "    </tr>\n",
       "    <tr>\n",
       "      <th>min</th>\n",
       "      <td>7.000000</td>\n",
       "    </tr>\n",
       "    <tr>\n",
       "      <th>25%</th>\n",
       "      <td>11061.500000</td>\n",
       "    </tr>\n",
       "    <tr>\n",
       "      <th>50%</th>\n",
       "      <td>14818.000000</td>\n",
       "    </tr>\n",
       "    <tr>\n",
       "      <th>75%</th>\n",
       "      <td>18974.000000</td>\n",
       "    </tr>\n",
       "    <tr>\n",
       "      <th>max</th>\n",
       "      <td>22687.000000</td>\n",
       "    </tr>\n",
       "  </tbody>\n",
       "</table>\n",
       "</div>"
      ],
      "text/plain": [
       "           document\n",
       "count   6807.000000\n",
       "mean   14739.782283\n",
       "std     4920.715769\n",
       "min        7.000000\n",
       "25%    11061.500000\n",
       "50%    14818.000000\n",
       "75%    18974.000000\n",
       "max    22687.000000"
      ]
     },
     "execution_count": 4,
     "metadata": {},
     "output_type": "execute_result"
    }
   ],
   "source": [
    "train_data.describe()"
   ]
  },
  {
   "cell_type": "code",
   "execution_count": 5,
   "id": "898d1866",
   "metadata": {
    "execution": {
     "iopub.execute_input": "2024-02-25T15:23:48.161459Z",
     "iopub.status.busy": "2024-02-25T15:23:48.161042Z",
     "iopub.status.idle": "2024-02-25T15:23:48.176895Z",
     "shell.execute_reply": "2024-02-25T15:23:48.175424Z"
    },
    "papermill": {
     "duration": 0.024162,
     "end_time": "2024-02-25T15:23:48.180132",
     "exception": false,
     "start_time": "2024-02-25T15:23:48.155970",
     "status": "completed"
    },
    "tags": []
   },
   "outputs": [
    {
     "data": {
      "text/html": [
       "<div>\n",
       "<style scoped>\n",
       "    .dataframe tbody tr th:only-of-type {\n",
       "        vertical-align: middle;\n",
       "    }\n",
       "\n",
       "    .dataframe tbody tr th {\n",
       "        vertical-align: top;\n",
       "    }\n",
       "\n",
       "    .dataframe thead th {\n",
       "        text-align: right;\n",
       "    }\n",
       "</style>\n",
       "<table border=\"1\" class=\"dataframe\">\n",
       "  <thead>\n",
       "    <tr style=\"text-align: right;\">\n",
       "      <th></th>\n",
       "      <th>document</th>\n",
       "    </tr>\n",
       "  </thead>\n",
       "  <tbody>\n",
       "    <tr>\n",
       "      <th>count</th>\n",
       "      <td>6807.000000</td>\n",
       "    </tr>\n",
       "    <tr>\n",
       "      <th>mean</th>\n",
       "      <td>14739.782283</td>\n",
       "    </tr>\n",
       "    <tr>\n",
       "      <th>std</th>\n",
       "      <td>4920.715769</td>\n",
       "    </tr>\n",
       "    <tr>\n",
       "      <th>min</th>\n",
       "      <td>7.000000</td>\n",
       "    </tr>\n",
       "    <tr>\n",
       "      <th>25%</th>\n",
       "      <td>11061.500000</td>\n",
       "    </tr>\n",
       "    <tr>\n",
       "      <th>50%</th>\n",
       "      <td>14818.000000</td>\n",
       "    </tr>\n",
       "    <tr>\n",
       "      <th>75%</th>\n",
       "      <td>18974.000000</td>\n",
       "    </tr>\n",
       "    <tr>\n",
       "      <th>max</th>\n",
       "      <td>22687.000000</td>\n",
       "    </tr>\n",
       "  </tbody>\n",
       "</table>\n",
       "</div>"
      ],
      "text/plain": [
       "           document\n",
       "count   6807.000000\n",
       "mean   14739.782283\n",
       "std     4920.715769\n",
       "min        7.000000\n",
       "25%    11061.500000\n",
       "50%    14818.000000\n",
       "75%    18974.000000\n",
       "max    22687.000000"
      ]
     },
     "execution_count": 5,
     "metadata": {},
     "output_type": "execute_result"
    }
   ],
   "source": [
    "train_df.describe()"
   ]
  }
 ],
 "metadata": {
  "kaggle": {
   "accelerator": "none",
   "dataSources": [
    {
     "databundleVersionId": 7500999,
     "sourceId": 66653,
     "sourceType": "competition"
    }
   ],
   "dockerImageVersionId": 30646,
   "isGpuEnabled": false,
   "isInternetEnabled": true,
   "language": "python",
   "sourceType": "notebook"
  },
  "kernelspec": {
   "display_name": "Python 3",
   "language": "python",
   "name": "python3"
  },
  "language_info": {
   "codemirror_mode": {
    "name": "ipython",
    "version": 3
   },
   "file_extension": ".py",
   "mimetype": "text/x-python",
   "name": "python",
   "nbconvert_exporter": "python",
   "pygments_lexer": "ipython3",
   "version": "3.10.13"
  },
  "papermill": {
   "default_parameters": {},
   "duration": 8.097842,
   "end_time": "2024-02-25T15:23:49.006706",
   "environment_variables": {},
   "exception": null,
   "input_path": "__notebook__.ipynb",
   "output_path": "__notebook__.ipynb",
   "parameters": {},
   "start_time": "2024-02-25T15:23:40.908864",
   "version": "2.5.0"
  }
 },
 "nbformat": 4,
 "nbformat_minor": 5
}
